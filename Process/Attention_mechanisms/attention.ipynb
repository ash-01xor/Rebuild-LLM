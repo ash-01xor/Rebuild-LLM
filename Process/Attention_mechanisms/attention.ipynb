{
 "cells": [
  {
   "cell_type": "code",
   "execution_count": 1,
   "metadata": {},
   "outputs": [
    {
     "name": "stdout",
     "output_type": "stream",
     "text": [
      "torch version: 2.5.1\n"
     ]
    }
   ],
   "source": [
    "from importlib.metadata import version\n",
    "\n",
    "print(\"torch version:\", version(\"torch\"))"
   ]
  },
  {
   "cell_type": "markdown",
   "metadata": {},
   "source": [
    "#### Importing libraries:"
   ]
  },
  {
   "cell_type": "code",
   "execution_count": 2,
   "metadata": {},
   "outputs": [],
   "source": [
    "import torch"
   ]
  },
  {
   "cell_type": "markdown",
   "metadata": {},
   "source": [
    "#### Computing self-attention with regards to particular token:"
   ]
  },
  {
   "cell_type": "code",
   "execution_count": 3,
   "metadata": {},
   "outputs": [],
   "source": [
    "inputs  = torch.tensor([\n",
    "   [0.43, 0.15, 0.89], # Your     (x^1)\n",
    "   [0.55, 0.87, 0.66], # journey  (x^2)\n",
    "   [0.57, 0.85, 0.64], # starts   (x^3)\n",
    "   [0.22, 0.58, 0.33], # with     (x^4)\n",
    "   [0.77, 0.25, 0.10], # one      (x^5)\n",
    "   [0.05, 0.80, 0.55]] # step     (x^6)\n",
    ")"
   ]
  },
  {
   "cell_type": "code",
   "execution_count": 4,
   "metadata": {},
   "outputs": [
    {
     "name": "stdout",
     "output_type": "stream",
     "text": [
      "Index:0 \t Input_token:tensor([0.4300, 0.1500, 0.8900]) \n",
      "Index:1 \t Input_token:tensor([0.5500, 0.8700, 0.6600]) \n",
      "Index:2 \t Input_token:tensor([0.5700, 0.8500, 0.6400]) \n",
      "Index:3 \t Input_token:tensor([0.2200, 0.5800, 0.3300]) \n",
      "Index:4 \t Input_token:tensor([0.7700, 0.2500, 0.1000]) \n",
      "Index:5 \t Input_token:tensor([0.0500, 0.8000, 0.5500]) \n",
      "tensor([0.9544, 1.4950, 1.4754, 0.8434, 0.7070, 1.0865])\n"
     ]
    }
   ],
   "source": [
    "query = inputs[1] #2nd input token is query\n",
    "\n",
    "attention_scores_2 = torch.empty(inputs.shape[0])\n",
    "for i,x_i in enumerate(inputs):\n",
    "    print(f\"Index:{i} \\t Input_token:{x_i} \")\n",
    "    attention_scores_2[i] = torch.dot(x_i,query)\n",
    "\n",
    "print(attention_scores_2)"
   ]
  },
  {
   "cell_type": "code",
   "execution_count": 5,
   "metadata": {},
   "outputs": [
    {
     "name": "stdout",
     "output_type": "stream",
     "text": [
      "Attention weights:tensor([0.1455, 0.2278, 0.2249, 0.1285, 0.1077, 0.1656])\n",
      "Sum:1.0000001192092896\n"
     ]
    }
   ],
   "source": [
    "attention_weights_2_tmp = attention_scores_2 / attention_scores_2.sum()\n",
    "print(f\"Attention weights:{attention_weights_2_tmp}\")\n",
    "print(f\"Sum:{attention_weights_2_tmp.sum()}\")"
   ]
  },
  {
   "cell_type": "code",
   "execution_count": 6,
   "metadata": {},
   "outputs": [
    {
     "name": "stdout",
     "output_type": "stream",
     "text": [
      "Attention weights:tensor([0.1385, 0.2379, 0.2333, 0.1240, 0.1082, 0.1581])\n",
      "Sum:1.0\n"
     ]
    }
   ],
   "source": [
    "def softmax_naive(x):\n",
    "    \"\"\"\n",
    "    this might result in problems like numerical underflow and overflow\n",
    "    therefor better to use Pytorch's inbuilt softmax function\n",
    "    \"\"\"\n",
    "    return torch.exp(x)/torch.exp(x).sum(dim=0)\n",
    "\n",
    "attention_weights_2_naive = softmax_naive(attention_scores_2)\n",
    "print(f\"Attention weights:{attention_weights_2_naive}\")\n",
    "print(f\"Sum:{attention_weights_2_naive.sum()}\")"
   ]
  },
  {
   "cell_type": "code",
   "execution_count": 7,
   "metadata": {},
   "outputs": [
    {
     "name": "stdout",
     "output_type": "stream",
     "text": [
      "Attention weights:tensor([0.1385, 0.2379, 0.2333, 0.1240, 0.1082, 0.1581])\n",
      "Sum:1.0\n"
     ]
    }
   ],
   "source": [
    "attention_weights_2 = torch.softmax(attention_scores_2,dim=0)\n",
    "print(f\"Attention weights:{attention_weights_2}\")\n",
    "print(f\"Sum:{attention_weights_2.sum()}\")"
   ]
  },
  {
   "cell_type": "code",
   "execution_count": 8,
   "metadata": {},
   "outputs": [
    {
     "name": "stdout",
     "output_type": "stream",
     "text": [
      "tensor([0.4419, 0.6515, 0.5683])\n"
     ]
    }
   ],
   "source": [
    "query = inputs[1]\n",
    "context_vec_2 = torch.zeros(query.shape)\n",
    "for i, x_i in enumerate(inputs):\n",
    "    context_vec_2 += attention_weights_2[i]*x_i\n",
    "print(context_vec_2)"
   ]
  },
  {
   "cell_type": "markdown",
   "metadata": {},
   "source": [
    "#### Computing attention weights for all input tokens(naive approach):"
   ]
  },
  {
   "cell_type": "code",
   "execution_count": 9,
   "metadata": {},
   "outputs": [
    {
     "name": "stdout",
     "output_type": "stream",
     "text": [
      "tensor([[0.9995, 0.9544, 0.9422, 0.4753, 0.4576, 0.6310],\n",
      "        [0.9544, 1.4950, 1.4754, 0.8434, 0.7070, 1.0865],\n",
      "        [0.9422, 1.4754, 1.4570, 0.8296, 0.7154, 1.0605],\n",
      "        [0.4753, 0.8434, 0.8296, 0.4937, 0.3474, 0.6565],\n",
      "        [0.4576, 0.7070, 0.7154, 0.3474, 0.6654, 0.2935],\n",
      "        [0.6310, 1.0865, 1.0605, 0.6565, 0.2935, 0.9450]])\n"
     ]
    }
   ],
   "source": [
    "attention_scores = inputs@inputs.T # alternative to using for loops\n",
    "print(attention_scores)"
   ]
  },
  {
   "cell_type": "code",
   "execution_count": 10,
   "metadata": {},
   "outputs": [
    {
     "name": "stdout",
     "output_type": "stream",
     "text": [
      "tensor([[0.2098, 0.2006, 0.1981, 0.1242, 0.1220, 0.1452],\n",
      "        [0.1385, 0.2379, 0.2333, 0.1240, 0.1082, 0.1581],\n",
      "        [0.1390, 0.2369, 0.2326, 0.1242, 0.1108, 0.1565],\n",
      "        [0.1435, 0.2074, 0.2046, 0.1462, 0.1263, 0.1720],\n",
      "        [0.1526, 0.1958, 0.1975, 0.1367, 0.1879, 0.1295],\n",
      "        [0.1385, 0.2184, 0.2128, 0.1420, 0.0988, 0.1896]])\n"
     ]
    }
   ],
   "source": [
    "attention_weights = torch.softmax(attention_scores,dim=-1) \n",
    "#dim =-1 suggests the normalization along last dimention of attention_scores tensor\n",
    "print(attention_weights)"
   ]
  },
  {
   "cell_type": "code",
   "execution_count": 11,
   "metadata": {},
   "outputs": [
    {
     "name": "stdout",
     "output_type": "stream",
     "text": [
      "tensor([[0.4421, 0.5931, 0.5790],\n",
      "        [0.4419, 0.6515, 0.5683],\n",
      "        [0.4431, 0.6496, 0.5671],\n",
      "        [0.4304, 0.6298, 0.5510],\n",
      "        [0.4671, 0.5910, 0.5266],\n",
      "        [0.4177, 0.6503, 0.5645]])\n"
     ]
    }
   ],
   "source": [
    "all_context_vecs = attention_weights@inputs\n",
    "print(all_context_vecs)"
   ]
  },
  {
   "cell_type": "code",
   "execution_count": 12,
   "metadata": {},
   "outputs": [
    {
     "data": {
      "text/plain": [
       "tensor([[0.4421, 0.5931, 0.5790],\n",
       "        [0.4419, 0.6515, 0.5683],\n",
       "        [0.4431, 0.6496, 0.5671],\n",
       "        [0.4304, 0.6298, 0.5510],\n",
       "        [0.4671, 0.5910, 0.5266],\n",
       "        [0.4177, 0.6503, 0.5645]])"
      ]
     },
     "execution_count": 12,
     "metadata": {},
     "output_type": "execute_result"
    }
   ],
   "source": [
    "#summing up all  process into single function\n",
    "\n",
    "def self_attention_naive(inputs):\n",
    "    \"\"\"\n",
    "    Implements a simple naive self-attention mechanism without using\n",
    "    any trainable weights.\n",
    "    The process consists of three operations:\n",
    "    - Matmul (query and input tokens)\n",
    "    - Normalization (normalize the scores obtained previous)\n",
    "    - Matmul (context vectors obtained)\n",
    "    \"\"\"\n",
    "    attention_scores = inputs @ inputs.T\n",
    "    normalized_attention_scores = torch.softmax(attention_scores,dim=-1)\n",
    "    context_vectors = normalized_attention_scores @ inputs \n",
    "    return context_vectors\n",
    "\n",
    "self_attention_naive(inputs)\n"
   ]
  },
  {
   "cell_type": "markdown",
   "metadata": {},
   "source": [
    "#### Implementing self-attention with trainable weights(one vector):"
   ]
  },
  {
   "cell_type": "code",
   "execution_count": 13,
   "metadata": {},
   "outputs": [],
   "source": [
    "x_2 = inputs[1]\n",
    "d_in = inputs.shape[1] # input embedding size\n",
    "d_out = 2 # output embedding size "
   ]
  },
  {
   "cell_type": "code",
   "execution_count": 14,
   "metadata": {},
   "outputs": [
    {
     "data": {
      "text/plain": [
       "<torch._C.Generator at 0x7106300f6030>"
      ]
     },
     "execution_count": 14,
     "metadata": {},
     "output_type": "execute_result"
    }
   ],
   "source": [
    "torch.manual_seed(42)"
   ]
  },
  {
   "cell_type": "code",
   "execution_count": 15,
   "metadata": {},
   "outputs": [],
   "source": [
    "W_query = torch.nn.Parameter(torch.rand(d_in,d_out),requires_grad=False)\n",
    "W_key = torch.nn.Parameter(torch.rand(d_in,d_out),requires_grad=False)\n",
    "W_value = torch.nn.Parameter(torch.rand(d_in,d_out),requires_grad=False)"
   ]
  },
  {
   "cell_type": "code",
   "execution_count": 16,
   "metadata": {},
   "outputs": [
    {
     "name": "stdout",
     "output_type": "stream",
     "text": [
      "Query_2 : tensor([1.0760, 1.7344])\n"
     ]
    }
   ],
   "source": [
    "query_2 = x_2 @ W_query\n",
    "key_2 = x_2 @ W_key\n",
    "value_2 = x_2 @ W_value\n",
    "\n",
    "print(f\"Query_2 : {query_2}\")"
   ]
  },
  {
   "cell_type": "code",
   "execution_count": 17,
   "metadata": {},
   "outputs": [
    {
     "name": "stdout",
     "output_type": "stream",
     "text": [
      "keys shape: torch.Size([6, 2])\n",
      "Values shape:torch.Size([6, 2])\n"
     ]
    }
   ],
   "source": [
    "# for all input elements\n",
    "key = inputs @ W_key\n",
    "values = inputs @ W_value\n",
    "print(f\"keys shape: {key.shape}\")\n",
    "print(f\"Values shape:{values.shape}\")"
   ]
  },
  {
   "cell_type": "code",
   "execution_count": 18,
   "metadata": {},
   "outputs": [
    {
     "name": "stdout",
     "output_type": "stream",
     "text": [
      "tensor(3.3338)\n"
     ]
    }
   ],
   "source": [
    "# attention score for 2 vector\n",
    "\n",
    "keys_2 = key[1]\n",
    "attention_scores_22 = query_2.dot(keys_2)\n",
    "print(attention_scores_22)"
   ]
  },
  {
   "cell_type": "code",
   "execution_count": 19,
   "metadata": {},
   "outputs": [
    {
     "name": "stdout",
     "output_type": "stream",
     "text": [
      "tensor([2.7084, 3.3338, 3.3013, 1.7563, 1.7869, 2.1966])\n"
     ]
    }
   ],
   "source": [
    "# generalized attention scores\n",
    "\n",
    "attention_scores_2 = query_2 @ key.T\n",
    "print(attention_scores_2)"
   ]
  },
  {
   "cell_type": "code",
   "execution_count": 20,
   "metadata": {},
   "outputs": [
    {
     "name": "stdout",
     "output_type": "stream",
     "text": [
      "tensor([0.1723, 0.2681, 0.2620, 0.0879, 0.0898, 0.1200])\n"
     ]
    }
   ],
   "source": [
    "d_k =  key.shape[-1]\n",
    "attention_weights_2 = torch.softmax(attention_scores_2/d_k** 0.5 , dim=-1)\n",
    "print(attention_weights_2)"
   ]
  },
  {
   "cell_type": "code",
   "execution_count": 29,
   "metadata": {},
   "outputs": [
    {
     "name": "stdout",
     "output_type": "stream",
     "text": [
      "tensor([1.4201, 0.8892])\n"
     ]
    }
   ],
   "source": [
    "context_vec_2 = attention_weights_2 @ values\n",
    "print(context_vec_2)"
   ]
  },
  {
   "cell_type": "markdown",
   "metadata": {},
   "source": [
    "#### Generalized self-attention code:"
   ]
  },
  {
   "cell_type": "code",
   "execution_count": 22,
   "metadata": {},
   "outputs": [],
   "source": [
    "import torch.nn as nn"
   ]
  },
  {
   "cell_type": "code",
   "execution_count": 36,
   "metadata": {},
   "outputs": [],
   "source": [
    "class SelfAttentionV1(nn.Module):\n",
    "    def __init__(self,d_in,d_out):\n",
    "        super().__init__()\n",
    "        self.W_query = nn.Parameter(torch.rand(d_in,d_out))\n",
    "        self.W_key = nn.Parameter(torch.rand(d_in,d_out))\n",
    "        self.W_value = nn.Parameter(torch.rand(d_in,d_out))\n",
    "\n",
    "    def forward(self,x):\n",
    "        query = x @ self.W_query\n",
    "        keys = x @ self.W_key\n",
    "        values = x @ self.W_value\n",
    "        attention_scores = query @ keys.T\n",
    "        attention_weights = torch.softmax(\n",
    "            attention_scores / keys.shape[-1]** 0.5 , dim = -1\n",
    "        )\n",
    "        context_vectors = attention_weights @ values\n",
    "        return context_vectors\n"
   ]
  },
  {
   "cell_type": "code",
   "execution_count": 37,
   "metadata": {},
   "outputs": [
    {
     "data": {
      "text/plain": [
       "<torch._C.Generator at 0x7106300f6030>"
      ]
     },
     "execution_count": 37,
     "metadata": {},
     "output_type": "execute_result"
    }
   ],
   "source": [
    "torch.manual_seed(42)"
   ]
  },
  {
   "cell_type": "code",
   "execution_count": 38,
   "metadata": {},
   "outputs": [
    {
     "name": "stdout",
     "output_type": "stream",
     "text": [
      "tensor([[1.3751, 0.8610],\n",
      "        [1.4201, 0.8892],\n",
      "        [1.4198, 0.8890],\n",
      "        [1.3533, 0.8476],\n",
      "        [1.3746, 0.8606],\n",
      "        [1.3620, 0.8532]], grad_fn=<MmBackward0>)\n"
     ]
    }
   ],
   "source": [
    "self_attention_v1 = SelfAttentionV1(d_in,d_out)\n",
    "print(self_attention_v1(inputs))"
   ]
  },
  {
   "cell_type": "code",
   "execution_count": 39,
   "metadata": {},
   "outputs": [],
   "source": [
    "class SelfAttentionV2(nn.Module):\n",
    "    def __init__(self,d_in,d_out,qkv_bias= False):\n",
    "        super().__init__()\n",
    "        self.W_query = nn.Linear(d_in,d_out,bias=qkv_bias)\n",
    "        self.W_key = nn.Linear(d_in,d_out,bias=qkv_bias)\n",
    "        self.W_value = nn.Linear(d_in,d_out,bias=qkv_bias)\n",
    "\n",
    "    def forward(self,x):\n",
    "        queries = self.W_query(x)\n",
    "        keys =  self.W_key(x)\n",
    "        values = self.W_value(x)\n",
    "        attention_scores = queries @ keys.T\n",
    "        attention_weights = torch.softmax( \n",
    "            attention_scores / keys.shape[-1] ** 0.5 , dim =-1\n",
    "            )\n",
    "        context_vectors = attention_weights @ values\n",
    "        return context_vectors"
   ]
  },
  {
   "cell_type": "code",
   "execution_count": 40,
   "metadata": {},
   "outputs": [
    {
     "name": "stdout",
     "output_type": "stream",
     "text": [
      "tensor([[0.3755, 0.2777],\n",
      "        [0.3761, 0.2831],\n",
      "        [0.3761, 0.2833],\n",
      "        [0.3768, 0.2763],\n",
      "        [0.3754, 0.2836],\n",
      "        [0.3772, 0.2746]], grad_fn=<MmBackward0>)\n"
     ]
    }
   ],
   "source": [
    "torch.manual_seed(42)\n",
    "\n",
    "self_attention_v2 = SelfAttentionV2(d_in,d_out)\n",
    "print(self_attention_v2(inputs))"
   ]
  },
  {
   "cell_type": "markdown",
   "metadata": {},
   "source": [
    "- The difference in the results of V1 and V2 is due to different weight initialization strategy"
   ]
  },
  {
   "cell_type": "markdown",
   "metadata": {},
   "source": [
    "#### Implementing simple causal attention mask "
   ]
  },
  {
   "cell_type": "code",
   "execution_count": 41,
   "metadata": {},
   "outputs": [
    {
     "name": "stdout",
     "output_type": "stream",
     "text": [
      "tensor([[0.1605, 0.1726, 0.1714, 0.1681, 0.1473, 0.1801],\n",
      "        [0.1627, 0.1780, 0.1758, 0.1648, 0.1306, 0.1880],\n",
      "        [0.1625, 0.1782, 0.1759, 0.1648, 0.1302, 0.1885],\n",
      "        [0.1661, 0.1726, 0.1715, 0.1654, 0.1475, 0.1768],\n",
      "        [0.1596, 0.1777, 0.1755, 0.1664, 0.1312, 0.1896],\n",
      "        [0.1682, 0.1715, 0.1707, 0.1648, 0.1511, 0.1738]],\n",
      "       grad_fn=<SoftmaxBackward0>)\n"
     ]
    }
   ],
   "source": [
    "queries = self_attention_v2.W_query(inputs)\n",
    "keys = self_attention_v2.W_key(inputs)\n",
    "attention_scores = queries @ keys.T\n",
    "attention_weights = torch.softmax(attention_scores / keys.shape[-1]** 0.5 , dim = -1)\n",
    "print(attention_weights)"
   ]
  },
  {
   "cell_type": "code",
   "execution_count": 43,
   "metadata": {},
   "outputs": [
    {
     "name": "stdout",
     "output_type": "stream",
     "text": [
      "tensor([[1., 0., 0., 0., 0., 0.],\n",
      "        [1., 1., 0., 0., 0., 0.],\n",
      "        [1., 1., 1., 0., 0., 0.],\n",
      "        [1., 1., 1., 1., 0., 0.],\n",
      "        [1., 1., 1., 1., 1., 0.],\n",
      "        [1., 1., 1., 1., 1., 1.]])\n"
     ]
    }
   ],
   "source": [
    "# masking of the weights\n",
    "context_length = attention_scores.shape[0]\n",
    "mask_simple = torch.tril(torch.ones(context_length,context_length))\n",
    "print(mask_simple)"
   ]
  },
  {
   "cell_type": "code",
   "execution_count": 44,
   "metadata": {},
   "outputs": [
    {
     "name": "stdout",
     "output_type": "stream",
     "text": [
      "tensor([[0.1605, 0.0000, 0.0000, 0.0000, 0.0000, 0.0000],\n",
      "        [0.1627, 0.1780, 0.0000, 0.0000, 0.0000, 0.0000],\n",
      "        [0.1625, 0.1782, 0.1759, 0.0000, 0.0000, 0.0000],\n",
      "        [0.1661, 0.1726, 0.1715, 0.1654, 0.0000, 0.0000],\n",
      "        [0.1596, 0.1777, 0.1755, 0.1664, 0.1312, 0.0000],\n",
      "        [0.1682, 0.1715, 0.1707, 0.1648, 0.1511, 0.1738]],\n",
      "       grad_fn=<MulBackward0>)\n"
     ]
    }
   ],
   "source": [
    "masked_simple = attention_weights * mask_simple\n",
    "print(masked_simple)"
   ]
  },
  {
   "cell_type": "code",
   "execution_count": 45,
   "metadata": {},
   "outputs": [
    {
     "name": "stdout",
     "output_type": "stream",
     "text": [
      "tensor([[1.0000, 0.0000, 0.0000, 0.0000, 0.0000, 0.0000],\n",
      "        [0.4775, 0.5225, 0.0000, 0.0000, 0.0000, 0.0000],\n",
      "        [0.3146, 0.3450, 0.3405, 0.0000, 0.0000, 0.0000],\n",
      "        [0.2459, 0.2555, 0.2538, 0.2448, 0.0000, 0.0000],\n",
      "        [0.1969, 0.2193, 0.2165, 0.2053, 0.1619, 0.0000],\n",
      "        [0.1682, 0.1715, 0.1707, 0.1648, 0.1511, 0.1738]],\n",
      "       grad_fn=<DivBackward0>)\n"
     ]
    }
   ],
   "source": [
    "row_sums = masked_simple.sum(dim=-1,keepdim=True)\n",
    "masked_simple_norm = masked_simple / row_sums\n",
    "print(masked_simple_norm)"
   ]
  },
  {
   "cell_type": "markdown",
   "metadata": {},
   "source": [
    "#### Implementation of more efficient causal masked attention:\n",
    "\n",
    "- Here we would be masking the attention scores with negative inf values before\n",
    "applying the softmax function"
   ]
  },
  {
   "cell_type": "code",
   "execution_count": 49,
   "metadata": {},
   "outputs": [
    {
     "name": "stdout",
     "output_type": "stream",
     "text": [
      "tensor([[0., 1., 1., 1., 1., 1.],\n",
      "        [0., 0., 1., 1., 1., 1.],\n",
      "        [0., 0., 0., 1., 1., 1.],\n",
      "        [0., 0., 0., 0., 1., 1.],\n",
      "        [0., 0., 0., 0., 0., 1.],\n",
      "        [0., 0., 0., 0., 0., 0.]])\n",
      "tensor([[ 0.0508,    -inf,    -inf,    -inf,    -inf,    -inf],\n",
      "        [ 0.2157,  0.3428,    -inf,    -inf,    -inf,    -inf],\n",
      "        [ 0.2163,  0.3467,  0.3282,    -inf,    -inf,    -inf],\n",
      "        [ 0.1257,  0.1799,  0.1707,  0.1191,    -inf,    -inf],\n",
      "        [ 0.1667,  0.3193,  0.3012,  0.2258, -0.1098,    -inf],\n",
      "        [ 0.1269,  0.1548,  0.1475,  0.0978, -0.0247,  0.1731]],\n",
      "       grad_fn=<MaskedFillBackward0>)\n"
     ]
    }
   ],
   "source": [
    "mask = torch.triu(torch.ones(context_length,context_length),diagonal=1)\n",
    "print(mask)\n",
    "masked = attention_scores.masked_fill(mask.bool(),-torch.inf)\n",
    "print(masked)"
   ]
  },
  {
   "cell_type": "code",
   "execution_count": 55,
   "metadata": {},
   "outputs": [
    {
     "name": "stdout",
     "output_type": "stream",
     "text": [
      "tensor([[1.0000, 0.0000, 0.0000, 0.0000, 0.0000, 0.0000],\n",
      "        [0.4775, 0.5225, 0.0000, 0.0000, 0.0000, 0.0000],\n",
      "        [0.3146, 0.3450, 0.3405, 0.0000, 0.0000, 0.0000],\n",
      "        [0.2459, 0.2555, 0.2538, 0.2448, 0.0000, 0.0000],\n",
      "        [0.1969, 0.2193, 0.2165, 0.2053, 0.1619, 0.0000],\n",
      "        [0.1682, 0.1715, 0.1707, 0.1648, 0.1511, 0.1738]],\n",
      "       grad_fn=<SoftmaxBackward0>)\n"
     ]
    }
   ],
   "source": [
    "attention_weights = torch.softmax(masked/keys.shape[-1]**0.5 , dim = 1)\n",
    "print(attention_weights)"
   ]
  },
  {
   "cell_type": "markdown",
   "metadata": {},
   "source": [
    "- After this step , the rest of the process remains the same.\n",
    "- We get to compute the context vectors by (attention_weights@values)"
   ]
  },
  {
   "cell_type": "markdown",
   "metadata": {},
   "source": [
    "#### Usage of droput:"
   ]
  },
  {
   "cell_type": "code",
   "execution_count": 51,
   "metadata": {},
   "outputs": [
    {
     "data": {
      "text/plain": [
       "<torch._C.Generator at 0x7106300f6030>"
      ]
     },
     "execution_count": 51,
     "metadata": {},
     "output_type": "execute_result"
    }
   ],
   "source": [
    "torch.manual_seed(42)"
   ]
  },
  {
   "cell_type": "code",
   "execution_count": 52,
   "metadata": {},
   "outputs": [
    {
     "name": "stdout",
     "output_type": "stream",
     "text": [
      "tensor([[0., 0., 2., 2., 2., 2.],\n",
      "        [2., 0., 2., 0., 2., 0.],\n",
      "        [0., 0., 2., 2., 2., 0.],\n",
      "        [2., 2., 0., 2., 0., 2.],\n",
      "        [2., 0., 2., 2., 2., 2.],\n",
      "        [2., 2., 2., 0., 2., 0.]])\n"
     ]
    }
   ],
   "source": [
    "dropout = torch.nn.Dropout(0.5)\n",
    "example = torch.ones(6,6)\n",
    "print(dropout(example))"
   ]
  },
  {
   "cell_type": "markdown",
   "metadata": {},
   "source": [
    "- The values in the above matrix equals 2, cause to compensate for the reduction of the active elements in the matrix.\n",
    "- They are scaled by a factor of (1/0.5=2)."
   ]
  },
  {
   "cell_type": "code",
   "execution_count": 53,
   "metadata": {},
   "outputs": [
    {
     "data": {
      "text/plain": [
       "<torch._C.Generator at 0x7106300f6030>"
      ]
     },
     "execution_count": 53,
     "metadata": {},
     "output_type": "execute_result"
    }
   ],
   "source": [
    "torch.manual_seed(42)"
   ]
  },
  {
   "cell_type": "code",
   "execution_count": 56,
   "metadata": {},
   "outputs": [
    {
     "name": "stdout",
     "output_type": "stream",
     "text": [
      "tensor([[0.0000, 0.0000, 0.0000, 0.0000, 0.0000, 0.0000],\n",
      "        [0.9551, 0.0000, 0.0000, 0.0000, 0.0000, 0.0000],\n",
      "        [0.6292, 0.0000, 0.6809, 0.0000, 0.0000, 0.0000],\n",
      "        [0.0000, 0.5110, 0.0000, 0.4895, 0.0000, 0.0000],\n",
      "        [0.3938, 0.4387, 0.4331, 0.0000, 0.0000, 0.0000],\n",
      "        [0.3364, 0.0000, 0.0000, 0.0000, 0.0000, 0.3476]],\n",
      "       grad_fn=<MulBackward0>)\n"
     ]
    }
   ],
   "source": [
    "print(dropout(attention_weights))"
   ]
  },
  {
   "cell_type": "markdown",
   "metadata": {},
   "source": [
    "#### Generalized causal attention:"
   ]
  },
  {
   "cell_type": "code",
   "execution_count": 57,
   "metadata": {},
   "outputs": [
    {
     "name": "stdout",
     "output_type": "stream",
     "text": [
      "torch.Size([2, 6, 3])\n"
     ]
    }
   ],
   "source": [
    "batch = torch.stack((inputs,inputs),dim=0) # handling batches of more than one input\n",
    "print(batch.shape)"
   ]
  },
  {
   "cell_type": "code",
   "execution_count": 58,
   "metadata": {},
   "outputs": [],
   "source": [
    "class CausalAttention(nn.Module):\n",
    "    def __init__(self,d_in,d_out,context_length,\n",
    "                 dropout,qkv_bias= False):\n",
    "        super().__init__()\n",
    "        self.d_out = d_out\n",
    "        self.W_query = nn.Linear(d_in,d_out,bias=qkv_bias)\n",
    "        self.W_key = nn.Linear(d_in,d_out,bias=qkv_bias)\n",
    "        self.W_value = nn.Linear(d_in,d_out,bias= qkv_bias)\n",
    "        self.dropout = nn.Dropout(dropout)\n",
    "        self.register_buffer(\n",
    "            'mask',\n",
    "            torch.triu(torch.ones(context_length,context_length),\n",
    "            diagonal=1)\n",
    "        )\n",
    "\n",
    "\n",
    "    def forward(self,x):\n",
    "        b , num_tokens , d_in = x.shape\n",
    "        keys = self.W_key(x)\n",
    "        queries = self.W_query(x)\n",
    "        values = self.W_value(x)\n",
    "        attention_scores = queries @ keys.transpose(1,2) # b , d_in , num_tokens\n",
    "        attention_scores.masked_fill_(  # helps in avoiding unnecessary memory copies\n",
    "            self.mask.bool()[:num_tokens,:num_tokens],-torch.inf\n",
    "        )\n",
    "        attention_weights = torch.softmax(\n",
    "            attention_scores/keys.shape[-1]**0.5 ,dim =-1\n",
    "        )\n",
    "        attention_weights = self.dropout(attention_weights)\n",
    "        context_vectors = attention_weights @ values \n",
    "        return context_vectors\n"
   ]
  },
  {
   "cell_type": "markdown",
   "metadata": {},
   "source": [
    "Advantages of using register buffer:\n",
    "- buffers are automatically moved to the appropriate device (GPU/CPU)\n",
    "    - doesn't require manual conversion of tensors to CPU / GPU "
   ]
  },
  {
   "cell_type": "code",
   "execution_count": 59,
   "metadata": {},
   "outputs": [
    {
     "data": {
      "text/plain": [
       "<torch._C.Generator at 0x7106300f6030>"
      ]
     },
     "execution_count": 59,
     "metadata": {},
     "output_type": "execute_result"
    }
   ],
   "source": [
    "torch.manual_seed(42)"
   ]
  },
  {
   "cell_type": "code",
   "execution_count": 60,
   "metadata": {},
   "outputs": [
    {
     "name": "stdout",
     "output_type": "stream",
     "text": [
      "context_vecs.shape:torch.Size([2, 6, 2])\n"
     ]
    }
   ],
   "source": [
    "context_length = batch.shape[1]\n",
    "casual_attention = CausalAttention(d_in,d_out,context_length,0.0)\n",
    "context_vec = casual_attention(batch)\n",
    "print(f\"context_vecs.shape:{context_vec.shape}\")"
   ]
  },
  {
   "cell_type": "markdown",
   "metadata": {},
   "source": [
    "#### Simple Multihead attention:\n",
    "- Making attention mechanism run individually but then separately (heads)"
   ]
  },
  {
   "cell_type": "code",
   "execution_count": 61,
   "metadata": {},
   "outputs": [],
   "source": [
    "class MultiHeadAttentionWrapper(nn.Module):\n",
    "    def __init__(self,d_in,d_out,context_length,\n",
    "                 dropout,num_heads,qkv_bias=False):\n",
    "        super().__init__()\n",
    "        self.heads = nn.ModuleList(\n",
    "            [CausalAttention(\n",
    "                d_in,d_out,context_length,dropout,qkv_bias\n",
    "            )\n",
    "            for _ in range(num_heads)\n",
    "            ]\n",
    "        )\n",
    "    \n",
    "    def forward(self,x):\n",
    "        return torch.cat([head(x) for head in self.heads],dim=-1)"
   ]
  },
  {
   "cell_type": "code",
   "execution_count": 62,
   "metadata": {},
   "outputs": [
    {
     "data": {
      "text/plain": [
       "<torch._C.Generator at 0x7106300f6030>"
      ]
     },
     "execution_count": 62,
     "metadata": {},
     "output_type": "execute_result"
    }
   ],
   "source": [
    "torch.manual_seed(42)"
   ]
  },
  {
   "cell_type": "code",
   "execution_count": 66,
   "metadata": {},
   "outputs": [
    {
     "name": "stdout",
     "output_type": "stream",
     "text": [
      "tensor([[[-0.0836, -0.4057],\n",
      "         [-0.2409, -0.2476],\n",
      "         [-0.2906, -0.2040],\n",
      "         [-0.2831, -0.1717],\n",
      "         [-0.2538, -0.1165],\n",
      "         [-0.2722, -0.1182]],\n",
      "\n",
      "        [[-0.0836, -0.4057],\n",
      "         [-0.2409, -0.2476],\n",
      "         [-0.2906, -0.2040],\n",
      "         [-0.2831, -0.1717],\n",
      "         [-0.2538, -0.1165],\n",
      "         [-0.2722, -0.1182]]], grad_fn=<CatBackward0>)\n",
      "shape of context vectors:torch.Size([2, 6, 2])\n"
     ]
    }
   ],
   "source": [
    "context_length = batch.shape[1]\n",
    "d_in , d_out = 3 , 1\n",
    "multi_head_attention = MultiHeadAttentionWrapper(\n",
    "    d_in,d_out,context_length,0.0,num_heads=2\n",
    ")\n",
    "context_vectors = multi_head_attention(batch)\n",
    "print(context_vectors)\n",
    "print(f\"shape of context vectors:{context_vectors.shape}\") #no_of_input_text, no_tokens, dim_embedding"
   ]
  },
  {
   "cell_type": "markdown",
   "metadata": {},
   "source": [
    "#### Efficient Multi head attention:\n",
    "\n",
    "- The earlier code involved using a wrapper that called Causal attention\n",
    "sequentially\n",
    "- Instead we condense it into a single function aiming to split the process parallely"
   ]
  },
  {
   "cell_type": "code",
   "execution_count": 67,
   "metadata": {},
   "outputs": [],
   "source": [
    "class MultiHeadAttention(nn.Module):\n",
    "    def __init__(self,d_in,d_out,\n",
    "                 context_length,dropout,\n",
    "                 num_heads, qkv_bias=False):\n",
    "        \n",
    "        super().__init__()\n",
    "        self.d_out = d_out\n",
    "        self.num_heads = num_heads\n",
    "        self.head_dim = d_out // num_heads\n",
    "        self.W_query = nn.Linear(d_in,d_out,bias=qkv_bias)\n",
    "        self.W_key = nn.Linear(d_in,d_out,bias=qkv_bias)\n",
    "        self.W_value = nn.Linear(d_in,d_out,bias=qkv_bias)\n",
    "        self.out_proj = nn.Linear(d_out,d_out)\n",
    "        self.dropout = nn.Dropout(dropout)\n",
    "        self.register_buffer(\n",
    "            \"mask\",\n",
    "            torch.triu(torch.ones(context_length,context_length),\n",
    "                       diagonal=1)\n",
    "        )\n",
    "\n",
    "\n",
    "    def forward(self,x):\n",
    "        b, num_tokens , d_in = x.shape\n",
    "        keys = self.W_key(x)\n",
    "        queries = self.W_query(x)\n",
    "        values = self.W_value(x)\n",
    "\n",
    "        # Splitting the matrix by adding num_heads\n",
    "        keys = keys.view(b,num_tokens,self.num_heads,self.head_dim)\n",
    "        queries = queries.view(b,num_tokens,self.num_heads,self.head_dim)\n",
    "        values = values.view(b,num_tokens,self.num_heads,self.head_dim)\n",
    "\n",
    "\n",
    "        # Converting the shape\n",
    "        # b,num_tokens,num_heads,head_dim = b,num_heads,num_tokens,head_dim\n",
    "        # crucial for aligning the keys and values in multiple heads\n",
    "        keys = keys.transpose(1,2) \n",
    "        queries = queries.transpose(1,2)\n",
    "        values = values.transpose(1,2)\n",
    "\n",
    "        attention_scores = queries @ keys.transpose(2,3) # dot product for each head\n",
    "        mask_bool = self.mask.bool()[:num_tokens,:num_tokens]\n",
    "        attention_scores.masked_fill_(mask_bool, -torch.inf)\n",
    "\n",
    "        attention_weights = torch.softmax(\n",
    "            attention_scores / keys.shape[-1]**0.5 , dim = -1\n",
    "        )\n",
    "        attention_weights = self.dropout(attention_weights)\n",
    "\n",
    "        # b , num_token , n_heads , head_dim\n",
    "        context_vectors = (attention_weights @ values).transpose(1,2) \n",
    "\n",
    "        # combines the heads \n",
    "        context_vectors = context_vectors.contiguous().view(\n",
    "            b,num_tokens,self.d_out\n",
    "        )\n",
    "        context_vectors = self.out_proj(context_vectors)\n",
    "        return context_vectors"
   ]
  },
  {
   "cell_type": "code",
   "execution_count": 68,
   "metadata": {},
   "outputs": [
    {
     "data": {
      "text/plain": [
       "<torch._C.Generator at 0x7106300f6030>"
      ]
     },
     "execution_count": 68,
     "metadata": {},
     "output_type": "execute_result"
    }
   ],
   "source": [
    "torch.manual_seed(42)"
   ]
  },
  {
   "cell_type": "code",
   "execution_count": 69,
   "metadata": {},
   "outputs": [
    {
     "name": "stdout",
     "output_type": "stream",
     "text": [
      "tensor([[[-0.4140,  0.3158],\n",
      "         [-0.3942,  0.2961],\n",
      "         [-0.3888,  0.2900],\n",
      "         [-0.3714,  0.3100],\n",
      "         [-0.3764,  0.3150],\n",
      "         [-0.3632,  0.3238]],\n",
      "\n",
      "        [[-0.4140,  0.3158],\n",
      "         [-0.3942,  0.2961],\n",
      "         [-0.3888,  0.2900],\n",
      "         [-0.3714,  0.3100],\n",
      "         [-0.3764,  0.3150],\n",
      "         [-0.3632,  0.3238]]], grad_fn=<ViewBackward0>)\n",
      "context vectors shape:torch.Size([2, 6, 2])\n"
     ]
    }
   ],
   "source": [
    "batch_size , context_length , d_in = batch.shape\n",
    "d_out = 2\n",
    "multi_head_attention = MultiHeadAttention(d_in,d_out,context_length,0.0,num_heads=2)\n",
    "context_vectors = multi_head_attention(batch)\n",
    "print(context_vectors)\n",
    "print(f\"context vectors shape:{context_vectors.shape}\")"
   ]
  }
 ],
 "metadata": {
  "kernelspec": {
   "display_name": ".venv",
   "language": "python",
   "name": "python3"
  },
  "language_info": {
   "codemirror_mode": {
    "name": "ipython",
    "version": 3
   },
   "file_extension": ".py",
   "mimetype": "text/x-python",
   "name": "python",
   "nbconvert_exporter": "python",
   "pygments_lexer": "ipython3",
   "version": "3.12.4"
  }
 },
 "nbformat": 4,
 "nbformat_minor": 2
}
